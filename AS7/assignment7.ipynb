{
 "cells": [
  {
   "cell_type": "markdown",
   "metadata": {},
   "source": [
    "# Assignment 7"
   ]
  },
  {
   "cell_type": "markdown",
   "metadata": {},
   "source": [
    "### Exercise 1\n",
    "\n",
    "a. f(x) =1 (Returns \"1\" for all input)      \n",
    "This funciton exhibits consistency, but is a bad example since it does not differenciate between the elements sent to it.\n",
    "\n",
    "b. f(x) = rand()  (Returns a random number every time)   \n",
    "\n",
    "This funciton does not exhibit consistency for the same input, you will not get the same output.\n",
    "\n",
    "c. f(x) = next_empty_slot()  (Returns the index of the next empty slot in the hash table)  \n",
    "\n",
    "This funciton does not exhibit consistency, because it relies on when you call it. So if you call it once with input = A and then send B and then A again \n",
    "it will give different output for the two A's.\n",
    "\n",
    "d. f(x) = len(x) (Uses the length of the string as the index)  \n",
    "\n",
    "This funciton exhibits consistency, but will give the same output to keys that realy are different, but have the same lenght."
   ]
  },
  {
   "cell_type": "markdown",
   "metadata": {},
   "source": [
    "### Exercise 2  \n",
    "Hash function A will never be the right one since it does not distribute the indexes at all.\n",
    "Hash function B would be effective for 2.2, since battery sizes are defined by how long the string is.\n",
    "Hash function C could work for 2.1 and 2.3, but it will not give the best distrubution since many names and book titles start with the same letter.\n",
    "Hash function D will work for 2.1 and 2.3, but not for 2.2 since it would give the same index for all battery sizes. \n",
    "\n",
    "2.1: A phonebook where the keys are names and values are phone numbers. The names are as follows: Esther, Ben, Bob, and Dan.  \n",
    "    \n",
    "\n",
    "2.2: A mapping from battery size to power. The sizes are A, AA, AAA, and AAAA.  \n",
    "\n",
    "\n",
    "2.3 A mapping from book titles to authors. The titles are Maus, Fun Home, and Watchmen.  "
   ]
  },
  {
   "cell_type": "markdown",
   "metadata": {},
   "source": [
    "### Exercise 3  \n",
    "\n",
    "    (104 + 101 + 108 + 108 + 111) mod 13 = 12\n"
   ]
  }
 ],
 "metadata": {
  "kernelspec": {
   "display_name": "Python 3",
   "language": "python",
   "name": "python3"
  },
  "language_info": {
   "codemirror_mode": {
    "name": "ipython",
    "version": 3
   },
   "file_extension": ".py",
   "mimetype": "text/x-python",
   "name": "python",
   "nbconvert_exporter": "python",
   "pygments_lexer": "ipython3",
   "version": "3.8.10"
  }
 },
 "nbformat": 4,
 "nbformat_minor": 2
}
